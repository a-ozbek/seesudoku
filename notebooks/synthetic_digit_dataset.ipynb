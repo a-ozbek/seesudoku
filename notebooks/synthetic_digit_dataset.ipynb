{
 "cells": [
  {
   "cell_type": "code",
   "execution_count": 1,
   "metadata": {
    "collapsed": true
   },
   "outputs": [],
   "source": [
    "import numpy as np\n",
    "from skimage import io, color, transform\n",
    "import matplotlib.pyplot as plt\n",
    "%matplotlib inline\n",
    "import os"
   ]
  },
  {
   "cell_type": "code",
   "execution_count": 2,
   "metadata": {
    "collapsed": false
   },
   "outputs": [],
   "source": [
    "# \n",
    "def clean_list(l):\n",
    "    l = [f for f in l if f.endswith('.png')]\n",
    "    return l\n",
    "\n",
    "# Construct the dataset\n",
    "root_dir = './English 2/Fnt'\n",
    "f_im1s = [os.path.join('./English 2/Fnt/Sample002',f) for f in clean_list(os.listdir('./English 2/Fnt/Sample002'))]\n",
    "f_im2s = [os.path.join('./English 2/Fnt/Sample003',f) for f in clean_list(os.listdir('./English 2/Fnt/Sample003'))]\n",
    "f_im3s = [os.path.join('./English 2/Fnt/Sample004',f) for f in clean_list(os.listdir('./English 2/Fnt/Sample004'))]\n",
    "f_im4s = [os.path.join('./English 2/Fnt/Sample005',f) for f in clean_list(os.listdir('./English 2/Fnt/Sample005'))]\n",
    "f_im5s = [os.path.join('./English 2/Fnt/Sample006',f) for f in clean_list(os.listdir('./English 2/Fnt/Sample006'))]\n",
    "f_im6s = [os.path.join('./English 2/Fnt/Sample007',f) for f in clean_list(os.listdir('./English 2/Fnt/Sample007'))]\n",
    "f_im7s = [os.path.join('./English 2/Fnt/Sample008',f) for f in clean_list(os.listdir('./English 2/Fnt/Sample008'))]\n",
    "f_im8s = [os.path.join('./English 2/Fnt/Sample009',f) for f in clean_list(os.listdir('./English 2/Fnt/Sample009'))]\n",
    "f_im9s = [os.path.join('./English 2/Fnt/Sample010',f) for f in clean_list(os.listdir('./English 2/Fnt/Sample010'))]\n",
    "f_ims = [f_im1s, f_im2s, f_im3s, f_im4s, f_im5s, f_im6s, f_im7s, f_im8s, f_im9s]\n",
    "\n",
    "# Create the labels (y)\n",
    "y = [];\n",
    "y += len(f_im1s) * [1];\n",
    "y += len(f_im2s) * [2];\n",
    "y += len(f_im3s) * [3];\n",
    "y += len(f_im4s) * [4];\n",
    "y += len(f_im5s) * [5];\n",
    "y += len(f_im6s) * [6];\n",
    "y += len(f_im7s) * [7];\n",
    "y += len(f_im8s) * [8];\n",
    "y += len(f_im9s) * [9];\n",
    "y = np.array(y)\n",
    "\n",
    "# Create X\n",
    "X = []\n",
    "for f_imXs in f_ims:\n",
    "    for f in f_imXs:\n",
    "        im = io.imread(f)\n",
    "        im = im / 255.0\n",
    "        X.append(im)\n",
    "X = np.array(X)\n",
    "\n",
    "# Save\n",
    "np.save('X.npy', X)\n",
    "np.save('y.npy', y)"
   ]
  },
  {
   "cell_type": "code",
   "execution_count": null,
   "metadata": {
    "collapsed": false
   },
   "outputs": [],
   "source": []
  },
  {
   "cell_type": "code",
   "execution_count": null,
   "metadata": {
    "collapsed": false
   },
   "outputs": [],
   "source": []
  },
  {
   "cell_type": "code",
   "execution_count": null,
   "metadata": {
    "collapsed": true
   },
   "outputs": [],
   "source": []
  }
 ],
 "metadata": {
  "kernelspec": {
   "display_name": "Python 2",
   "language": "python",
   "name": "python2"
  },
  "language_info": {
   "codemirror_mode": {
    "name": "ipython",
    "version": 2
   },
   "file_extension": ".py",
   "mimetype": "text/x-python",
   "name": "python",
   "nbconvert_exporter": "python",
   "pygments_lexer": "ipython2",
   "version": "2.7.12"
  }
 },
 "nbformat": 4,
 "nbformat_minor": 1
}
