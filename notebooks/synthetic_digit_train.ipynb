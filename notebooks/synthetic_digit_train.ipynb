{
 "cells": [
  {
   "cell_type": "code",
   "execution_count": 1,
   "metadata": {
    "collapsed": false
   },
   "outputs": [
    {
     "name": "stderr",
     "output_type": "stream",
     "text": [
      "Using TensorFlow backend.\n",
      "/Users/ahmetcanozbek/anaconda/envs/qs/lib/python2.7/site-packages/sklearn/cross_validation.py:44: DeprecationWarning: This module was deprecated in version 0.18 in favor of the model_selection module into which all the refactored classes and functions are moved. Also note that the interface of the new CV iterators are different from that of this module. This module will be removed in 0.20.\n",
      "  \"This module will be removed in 0.20.\", DeprecationWarning)\n"
     ]
    }
   ],
   "source": [
    "import numpy as np\n",
    "np.random.seed(43)\n",
    "from keras.layers import Convolution2D, MaxPooling2D, Dense, Flatten, Dropout\n",
    "from keras.models import Sequential\n",
    "from keras.utils.np_utils import to_categorical\n",
    "from keras.models import model_from_json\n",
    "from sklearn.cross_validation import train_test_split\n",
    "import matplotlib.pyplot as plt\n",
    "%matplotlib inline"
   ]
  },
  {
   "cell_type": "code",
   "execution_count": 2,
   "metadata": {
    "collapsed": false
   },
   "outputs": [
    {
     "name": "stdout",
     "output_type": "stream",
     "text": [
      "X_train.shape: (7315, 128, 128, 1)\n",
      "y_train.shape: (7315,)\n",
      "X_test.shape: (1829, 128, 128, 1)\n",
      "y_test.shape: (1829,)\n"
     ]
    }
   ],
   "source": [
    "# Load the data\n",
    "X = np.load('./X.npy')\n",
    "y = np.load('./y.npy')\n",
    "\n",
    "# Train-Test split\n",
    "X_train, X_test, y_train, y_test = train_test_split(X, y, test_size=0.2)\n",
    "\n",
    "# \n",
    "X_train = np.expand_dims(X_train, axis=3)\n",
    "X_test = np.expand_dims(X_test, axis=3)\n",
    "\n",
    "print 'X_train.shape:', X_train.shape\n",
    "print 'y_train.shape:', y_train.shape\n",
    "print 'X_test.shape:', X_test.shape\n",
    "print 'y_test.shape:', y_test.shape"
   ]
  },
  {
   "cell_type": "code",
   "execution_count": 3,
   "metadata": {
    "collapsed": false
   },
   "outputs": [],
   "source": [
    "X_train = 1.0 - X_train\n",
    "X_test = 1.0 - X_test"
   ]
  },
  {
   "cell_type": "code",
   "execution_count": 4,
   "metadata": {
    "collapsed": false
   },
   "outputs": [
    {
     "name": "stdout",
     "output_type": "stream",
     "text": [
      "Epoch 1/6\n",
      "7315/7315 [==============================] - 157s - loss: 0.2984 - acc: 0.9049   \n",
      "Epoch 2/6\n",
      "7315/7315 [==============================] - 168s - loss: 0.0364 - acc: 0.9899   \n",
      "Epoch 3/6\n",
      "7315/7315 [==============================] - 162s - loss: 0.0192 - acc: 0.9936   \n",
      "Epoch 4/6\n",
      "7315/7315 [==============================] - 179s - loss: 0.0101 - acc: 0.9966   \n",
      "Epoch 5/6\n",
      "7315/7315 [==============================] - 175s - loss: 0.0125 - acc: 0.9958   \n",
      "Epoch 6/6\n",
      "7315/7315 [==============================] - 172s - loss: 0.0033 - acc: 0.9995   \n"
     ]
    }
   ],
   "source": [
    "# Define the model\n",
    "model = Sequential()\n",
    "model.add(Convolution2D(6,5,5, border_mode='same', input_shape=(128,128,1), activation='relu'))\n",
    "model.add(MaxPooling2D(pool_size=(2,2)))\n",
    "model.add(Convolution2D(16,5,5, border_mode='same', activation='relu'))\n",
    "model.add(MaxPooling2D(pool_size=(2,2)))\n",
    "model.add(Convolution2D(30,5,5, border_mode='same', activation='relu'))\n",
    "model.add(MaxPooling2D(pool_size=(2,2)))\n",
    "model.add(Flatten())\n",
    "model.add(Dense(output_dim=5000, activation='relu'))\n",
    "model.add(Dropout(0.2))\n",
    "model.add(Dense(output_dim=1000, activation='relu'))\n",
    "model.add(Dense(output_dim=9, activation='softmax'))\n",
    "\n",
    "# Define the optimizer and the loss function\n",
    "model.compile(loss='categorical_crossentropy', optimizer='adam', metrics=['accuracy'])\n",
    "\n",
    "# Fit the model\n",
    "y_train_tc = to_categorical(y_train)[:,1:]\n",
    "hist = model.fit(X_train, y_train_tc, batch_size=64, nb_epoch=6)"
   ]
  },
  {
   "cell_type": "code",
   "execution_count": 5,
   "metadata": {
    "collapsed": false
   },
   "outputs": [],
   "source": [
    "# Save the model\n",
    "model_json_str = model.to_json()\n",
    "open('./model2_arch.txt','w').write(model_json_str)\n",
    "model.save_weights('./model2_weights.h5')"
   ]
  },
  {
   "cell_type": "code",
   "execution_count": 6,
   "metadata": {
    "collapsed": false
   },
   "outputs": [
    {
     "name": "stdout",
     "output_type": "stream",
     "text": [
      "1829/1829 [==============================] - 10s    \n"
     ]
    },
    {
     "data": {
      "text/plain": [
       "0.99070530344450525"
      ]
     },
     "execution_count": 6,
     "metadata": {},
     "output_type": "execute_result"
    }
   ],
   "source": [
    "# Load the model and test\n",
    "model_arch_str = open('./model2_arch.txt', 'r').read()\n",
    "model_l = model_from_json(model_arch_str)\n",
    "model_l.load_weights('./model2_weights.h5')\n",
    "\n",
    "np.mean(y_test == model_l.predict_classes(X_test) + 1)"
   ]
  },
  {
   "cell_type": "code",
   "execution_count": null,
   "metadata": {
    "collapsed": false
   },
   "outputs": [],
   "source": []
  },
  {
   "cell_type": "code",
   "execution_count": null,
   "metadata": {
    "collapsed": false
   },
   "outputs": [],
   "source": []
  },
  {
   "cell_type": "code",
   "execution_count": null,
   "metadata": {
    "collapsed": true
   },
   "outputs": [],
   "source": []
  }
 ],
 "metadata": {
  "kernelspec": {
   "display_name": "Python 2",
   "language": "python",
   "name": "python2"
  },
  "language_info": {
   "codemirror_mode": {
    "name": "ipython",
    "version": 2
   },
   "file_extension": ".py",
   "mimetype": "text/x-python",
   "name": "python",
   "nbconvert_exporter": "python",
   "pygments_lexer": "ipython2",
   "version": "2.7.12"
  }
 },
 "nbformat": 4,
 "nbformat_minor": 1
}
